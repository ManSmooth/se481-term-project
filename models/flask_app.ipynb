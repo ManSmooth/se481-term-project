{
 "cells": [
  {
   "cell_type": "code",
   "execution_count": 77,
   "metadata": {},
   "outputs": [
    {
     "name": "stdout",
     "output_type": "stream",
     "text": [
      "Requirement already satisfied: flask-jwt-extended in /opt/conda/envs/ir/lib/python3.10/site-packages (4.6.0)\n",
      "Requirement already satisfied: Werkzeug>=0.14 in /opt/conda/envs/ir/lib/python3.10/site-packages (from flask-jwt-extended) (3.0.1)\n",
      "Requirement already satisfied: Flask<4.0,>=2.0 in /opt/conda/envs/ir/lib/python3.10/site-packages (from flask-jwt-extended) (3.0.2)\n",
      "Requirement already satisfied: PyJWT<3.0,>=2.0 in /opt/conda/envs/ir/lib/python3.10/site-packages (from flask-jwt-extended) (2.8.0)\n",
      "Requirement already satisfied: Jinja2>=3.1.2 in /opt/conda/envs/ir/lib/python3.10/site-packages (from Flask<4.0,>=2.0->flask-jwt-extended) (3.1.3)\n",
      "Requirement already satisfied: itsdangerous>=2.1.2 in /opt/conda/envs/ir/lib/python3.10/site-packages (from Flask<4.0,>=2.0->flask-jwt-extended) (2.1.2)\n",
      "Requirement already satisfied: click>=8.1.3 in /opt/conda/envs/ir/lib/python3.10/site-packages (from Flask<4.0,>=2.0->flask-jwt-extended) (8.1.7)\n",
      "Requirement already satisfied: blinker>=1.6.2 in /opt/conda/envs/ir/lib/python3.10/site-packages (from Flask<4.0,>=2.0->flask-jwt-extended) (1.7.0)\n",
      "Requirement already satisfied: MarkupSafe>=2.1.1 in /opt/conda/envs/ir/lib/python3.10/site-packages (from Werkzeug>=0.14->flask-jwt-extended) (2.1.5)\n",
      "Note: you may need to restart the kernel to use updated packages.\n"
     ]
    }
   ],
   "source": [
    "%pip install \"flask-jwt-extended\"\n"
   ]
  },
  {
   "cell_type": "code",
   "execution_count": 78,
   "metadata": {},
   "outputs": [
    {
     "name": "stderr",
     "output_type": "stream",
     "text": [
      "[nltk_data] Downloading package stopwords to /home/amogus/nltk_data...\n",
      "[nltk_data]   Package stopwords is already up-to-date!\n",
      "[nltk_data] Downloading package punkt to /home/amogus/nltk_data...\n",
      "[nltk_data]   Package punkt is already up-to-date!\n"
     ]
    },
    {
     "data": {
      "text/plain": [
       "True"
      ]
     },
     "execution_count": 78,
     "metadata": {},
     "output_type": "execute_result"
    }
   ],
   "source": [
    "from flask import Flask, request, make_response, jsonify\n",
    "from scipy.sparse import hstack\n",
    "import pickle\n",
    "import string\n",
    "import re\n",
    "from nltk.tokenize import word_tokenize\n",
    "from nltk.stem import PorterStemmer\n",
    "from nltk.corpus import stopwords\n",
    "import nltk\n",
    "import joblib\n",
    "from elasticsearch import Elasticsearch, helpers\n",
    "import time\n",
    "import pandas as pd\n",
    "from flask_jwt_extended import create_access_token, get_jwt, jwt_required, JWTManager\n",
    "import numpy as np\n",
    "\n",
    "\n",
    "nltk.download(\"stopwords\")\n",
    "nltk.download(\"punkt\")\n"
   ]
  },
  {
   "cell_type": "code",
   "execution_count": 79,
   "metadata": {},
   "outputs": [],
   "source": [
    "app = Flask(__name__)\n",
    "app.es_client = Elasticsearch(\n",
    "    \"https://127.0.0.1:9200\",\n",
    "    basic_auth=(\n",
    "        \"elastic\",\n",
    "        \"yHcm1Pyq=jnDL_4gw93i\",\n",
    "    ),\n",
    "    ca_certs=\"http_ca.crt\",\n",
    ")\n",
    "app.user_df = pd.read_parquet(\"resources/food/user.parquet\")\n",
    "app.config[\"JWT_SECRET_KEY\"] = \"recipeme79\"\n",
    "jwt = JWTManager(app)\n",
    "\n",
    "\n",
    "recommend_query = {\n",
    "    \"function_score\": {\n",
    "        \"query\": {\"match_all\": {}},\n",
    "        \"functions\": [\n",
    "            {\n",
    "                \"script_score\": {\n",
    "                    \"script\": {\n",
    "                        \"source\": \"(doc['AggregatedRating'].value * doc['ReviewCount'].value + 4.632013709922984 * 100) / (doc['AggregatedRating'].value + 100)\"\n",
    "                    },\n",
    "                },\n",
    "                \"weight\": 1,\n",
    "            },\n",
    "        ],\n",
    "        \"score_mode\": \"multiply\",\n",
    "    }\n",
    "}\n",
    "\n",
    "@app.route(\"/user-detail\", methods=[\"GET\"])\n",
    "@jwt_required()\n",
    "def get_jwt_data():\n",
    "    claims = get_jwt()\n",
    "    return make_response(jsonify(dict(claims)), 200, {\"Access-Control-Allow-Origin\": \"*\"})\n",
    "\n",
    "@app.route(\"/login\", methods=[\"POST\"])\n",
    "def login():\n",
    "    username = request.json.get(\"username\", None)\n",
    "    password = request.json.get(\"password\", None)\n",
    "\n",
    "    try:\n",
    "        user = app.user_df.reset_index()[(app.user_df[\"username\"] == username) & (app.user_df[\"password\"] == password)].iloc[0].to_dict()\n",
    "        print(user)\n",
    "        additional_claims = {\"disp\": user.get(\"display_name\")}\n",
    "        access_token = create_access_token(identity=user.get(\"username\"), additional_claims=additional_claims)\n",
    "        return make_response(jsonify(access_token=access_token), 200, {\"Access-Control-Allow-Origin\": \"*\"})\n",
    "    except IndexError:\n",
    "        return make_response(jsonify({\"msg\": \"Bad username or password\"}), 401, {\"Access-Control-Allow-Origin\": \"*\"})\n",
    "\n",
    "\n",
    "@app.route(\"/register\", methods=[\"POST\"])\n",
    "def register():\n",
    "    username = request.json.get(\"username\", None)\n",
    "    password = request.json.get(\"password\", None)\n",
    "    display_name = request.json.get(\"display_name\", None)\n",
    "\n",
    "    if app.user_df[(app.user_df[\"username\"] == \"username\")].shape[0] > 0:\n",
    "        return make_response(jsonify({\"msg\": \"Bad username\"}), 401, {\"Access-Control-Allow-Origin\": \"*\"})\n",
    "    else:\n",
    "        app.user_df = pd.concat([app.user_df, pd.DataFrame([[username, password, display_name]], columns=[\"username\", \"password\", \"display_name\"])], ignore_index=True)\n",
    "        app.user_df.to_parquet(\"resources/food/user.parquet\")\n",
    "        additional_claims = {\"disp\": display_name}\n",
    "        access_token = create_access_token(identity=username, additional_claims=additional_claims)\n",
    "        return make_response(jsonify(access_token=access_token), 200, {\"Access-Control-Allow-Origin\": \"*\"})\n",
    "\n",
    "\n",
    "def get_search_query(query: str):\n",
    "    return {\n",
    "        \"function_score\": {\n",
    "            \"query\": {\n",
    "                \"dis_max\": {\n",
    "                    \"queries\": [\n",
    "                        {\"match\": {\"Name\": query}},\n",
    "                        {\"match\": {\"Description\": query}},\n",
    "                        {\"match\": {\"RecipeInstructions\": query}},\n",
    "                        {\"match\": {\"Keywords\": query}},\n",
    "                    ],\n",
    "                    \"tie_breaker\": 0.3,\n",
    "                }\n",
    "            },\n",
    "            \"functions\": [\n",
    "                {\n",
    "                    \"script_score\": {\n",
    "                        \"script\": {\n",
    "                            \"source\": \"(doc['AggregatedRating'].value * doc['ReviewCount'].value + 4.632013709922984 * 100) / (doc['AggregatedRating'].value + 100)\"\n",
    "                        },\n",
    "                    },\n",
    "                    \"weight\": 1,\n",
    "                },\n",
    "                {\n",
    "                    \"script_score\": {\n",
    "                        \"script\": {\"source\": \"_score\"},\n",
    "                    },\n",
    "                    \"weight\": 1,\n",
    "                },\n",
    "            ],\n",
    "            \"score_mode\": \"multiply\",\n",
    "        }\n",
    "    }\n",
    "\n",
    "\n",
    "@app.route(\"/recommended\", methods=[\"GET\"])\n",
    "def get_recommended():\n",
    "    start = time.time()\n",
    "    response_object = {\"status\": \"success\"}\n",
    "    results = app.es_client.search(\n",
    "        index=\"recipes\",\n",
    "        size=6,\n",
    "        query=recommend_query,\n",
    "    )\n",
    "    end = time.time()\n",
    "    total_hit = results[\"hits\"][\"total\"][\"value\"]\n",
    "    results_df = pd.DataFrame(\n",
    "        [[hit[\"_score\"], *hit[\"_source\"].values()] for hit in results[\"hits\"][\"hits\"]],\n",
    "        columns=[\"score\"] + list(results[\"hits\"][\"hits\"][0][\"_source\"].keys()),\n",
    "    )\n",
    "    response_object[\"total_hit\"] = total_hit\n",
    "    response_object[\"results\"] = results_df.to_dict(\"records\")\n",
    "    response_object[\"elapse\"] = end - start\n",
    "    return make_response(response_object, 200, {\"Access-Control-Allow-Origin\": \"*\"})\n",
    "\n",
    "\n",
    "@app.route(\"/search\", methods=[\"GET\"])\n",
    "def search():\n",
    "    start = time.time()\n",
    "    response_object = {\"status\": \"success\"}\n",
    "    argList = request.args.to_dict(flat=False)\n",
    "    query = argList[\"query\"][0]\n",
    "    results = app.es_client.search(\n",
    "        index=\"recipes\",\n",
    "        size=12,\n",
    "        query=get_search_query(query),\n",
    "    )\n",
    "    end = time.time()\n",
    "    total_hit = results[\"hits\"][\"total\"][\"value\"]\n",
    "    if len(results[\"hits\"][\"hits\"]) > 0:\n",
    "        results_df = pd.DataFrame(\n",
    "            [[hit[\"_score\"], *hit[\"_source\"].values()] for hit in results[\"hits\"][\"hits\"]],\n",
    "            columns=[\"score\"] + list(results[\"hits\"][\"hits\"][0][\"_source\"].keys()),\n",
    "        )\n",
    "    else:\n",
    "        results_df = pd.DataFrame()\n",
    "    response_object[\"total_hit\"] = total_hit\n",
    "    response_object[\"results\"] = results_df.to_dict(\"records\")\n",
    "    response_object[\"elapse\"] = end - start\n",
    "    return make_response(response_object, 200, {\"Access-Control-Allow-Origin\": \"*\"})\n",
    "\n",
    "\n",
    "@app.route(\"/recipes/<int:id>\", methods=[\"GET\"])\n",
    "def get_by_id(id: int):\n",
    "    start = time.time()\n",
    "    response_object = {\"status\": \"success\"}\n",
    "    result = app.es_client.get(index=\"recipes\", id=id)\n",
    "    end = time.time()\n",
    "    result_df = pd.DataFrame(\n",
    "        [[*result[\"_source\"].values()]],\n",
    "        columns=list(result[\"_source\"].keys()),\n",
    "    )\n",
    "    response_object[\"results\"] = result_df.to_dict(\"records\")\n",
    "    response_object[\"elapse\"] = end - start\n",
    "    return make_response(response_object, 200, {\"Access-Control-Allow-Origin\": \"*\"})\n",
    "\n",
    "@app.after_request\n",
    "def apply_caching(response):\n",
    "    response.headers[\"Access-Control-Allow-Origin\"] = \"*\"\n",
    "    response.headers[\"Access-Control-Allow-Headers\"] = \"*\"\n",
    "    return response\n"
   ]
  },
  {
   "cell_type": "code",
   "execution_count": 80,
   "metadata": {},
   "outputs": [
    {
     "name": "stdout",
     "output_type": "stream",
     "text": [
      " * Serving Flask app '__main__'\n",
      " * Debug mode: off\n"
     ]
    },
    {
     "name": "stderr",
     "output_type": "stream",
     "text": [
      "WARNING: This is a development server. Do not use it in a production deployment. Use a production WSGI server instead.\n",
      " * Running on all addresses (0.0.0.0)\n",
      " * Running on http://127.0.0.1:5000\n",
      " * Running on http://10.148.0.2:5000\n",
      "Press CTRL+C to quit\n",
      "180.183.224.101 - - [13/Mar/2024 08:04:14] \"GET /recipes/512364 HTTP/1.1\" 200 -\n",
      "180.183.224.101 - - [13/Mar/2024 08:04:18] \"GET /search?query=beef HTTP/1.1\" 200 -\n",
      "180.183.224.101 - - [13/Mar/2024 08:04:20] \"GET /search?query=Asian HTTP/1.1\" 200 -\n",
      "180.183.224.101 - - [13/Mar/2024 08:04:26] \"GET /recipes/512364 HTTP/1.1\" 200 -\n",
      "180.183.224.101 - - [13/Mar/2024 08:04:32] \"GET /recipes/467378 HTTP/1.1\" 200 -\n",
      "180.183.224.101 - - [13/Mar/2024 08:04:38] \"GET /search?query=Asian HTTP/1.1\" 200 -\n",
      "180.183.224.101 - - [13/Mar/2024 08:04:39] \"GET /recipes/512364 HTTP/1.1\" 200 -\n",
      "180.183.224.101 - - [13/Mar/2024 08:04:40] \"GET /recipes/496913 HTTP/1.1\" 200 -\n",
      "180.183.224.101 - - [13/Mar/2024 08:04:42] \"GET /recipes/45809 HTTP/1.1\" 200 -\n",
      "180.183.224.101 - - [13/Mar/2024 08:04:43] \"GET /recipes/54114 HTTP/1.1\" 200 -\n",
      "180.183.224.101 - - [13/Mar/2024 08:04:47] \"GET /search?query=<%2030%20Mins HTTP/1.1\" 200 -\n",
      "180.183.224.101 - - [13/Mar/2024 08:04:48] \"GET /recipes/388610 HTTP/1.1\" 200 -\n",
      "180.183.224.101 - - [13/Mar/2024 08:04:50] \"GET /recipes/106066 HTTP/1.1\" 200 -\n",
      "180.183.224.101 - - [13/Mar/2024 08:04:52] \"GET /search?query=<%2030%20Mins HTTP/1.1\" 200 -\n",
      "180.183.224.101 - - [13/Mar/2024 08:04:52] \"GET /recipes/106066 HTTP/1.1\" 200 -\n",
      "180.183.224.101 - - [13/Mar/2024 08:05:31] \"GET /recommended HTTP/1.1\" 200 -\n",
      "180.183.224.101 - - [13/Mar/2024 08:05:32] \"GET /recipes/2886 HTTP/1.1\" 200 -\n",
      "180.183.224.101 - - [13/Mar/2024 08:05:32] \"GET /recipes/89204 HTTP/1.1\" 200 -\n",
      "180.183.224.101 - - [13/Mar/2024 08:05:35] \"OPTIONS /login HTTP/1.1\" 200 -\n",
      "180.183.224.101 - - [13/Mar/2024 08:05:35] \"POST /login HTTP/1.1\" 200 -\n",
      "180.183.224.101 - - [13/Mar/2024 08:05:36] \"OPTIONS /user-detail HTTP/1.1\" 200 -\n",
      "180.183.224.101 - - [13/Mar/2024 08:05:36] \"GET /user-detail HTTP/1.1\" 200 -\n"
     ]
    },
    {
     "name": "stdout",
     "output_type": "stream",
     "text": [
      "{'index': 0, 'username': 'test', 'password': 'test', 'display_name': 'test-user'}\n"
     ]
    },
    {
     "name": "stderr",
     "output_type": "stream",
     "text": [
      "180.183.224.101 - - [13/Mar/2024 08:05:38] \"GET /recommended HTTP/1.1\" 200 -\n",
      "180.183.224.101 - - [13/Mar/2024 08:05:40] \"GET /search?query=beef HTTP/1.1\" 200 -\n",
      "180.183.224.101 - - [13/Mar/2024 08:05:42] \"GET /recommended HTTP/1.1\" 200 -\n",
      "180.183.224.101 - - [13/Mar/2024 08:06:43] \"GET /recipes/2886 HTTP/1.1\" 200 -\n",
      "180.183.224.101 - - [13/Mar/2024 08:06:47] \"GET /recommended HTTP/1.1\" 200 -\n",
      "180.183.224.101 - - [13/Mar/2024 08:07:58] \"GET /recipes/45809 HTTP/1.1\" 200 -\n",
      "180.183.224.101 - - [13/Mar/2024 08:08:00] \"GET /recipes/27208 HTTP/1.1\" 200 -\n",
      "180.183.224.101 - - [13/Mar/2024 08:08:41] \"OPTIONS /login HTTP/1.1\" 200 -\n",
      "180.183.224.101 - - [13/Mar/2024 08:08:41] \"POST /login HTTP/1.1\" 200 -\n",
      "180.183.224.101 - - [13/Mar/2024 08:08:41] \"OPTIONS /user-detail HTTP/1.1\" 200 -\n",
      "180.183.224.101 - - [13/Mar/2024 08:08:41] \"GET /recommended HTTP/1.1\" 200 -\n",
      "180.183.224.101 - - [13/Mar/2024 08:08:41] \"GET /user-detail HTTP/1.1\" 200 -\n"
     ]
    },
    {
     "name": "stdout",
     "output_type": "stream",
     "text": [
      "{'index': 0, 'username': 'test', 'password': 'test', 'display_name': 'test-user'}\n"
     ]
    },
    {
     "name": "stderr",
     "output_type": "stream",
     "text": [
      "180.183.224.101 - - [13/Mar/2024 08:08:41] \"GET /recipes/27208 HTTP/1.1\" 200 -\n",
      "180.183.224.101 - - [13/Mar/2024 08:09:45] \"OPTIONS /login HTTP/1.1\" 200 -\n",
      "180.183.224.101 - - [13/Mar/2024 08:09:45] \"POST /login HTTP/1.1\" 200 -\n",
      "180.183.224.101 - - [13/Mar/2024 08:09:45] \"OPTIONS /user-detail HTTP/1.1\" 200 -\n",
      "180.183.224.101 - - [13/Mar/2024 08:09:45] \"GET /recommended HTTP/1.1\" 200 -\n",
      "180.183.224.101 - - [13/Mar/2024 08:09:45] \"GET /user-detail HTTP/1.1\" 200 -\n"
     ]
    },
    {
     "name": "stdout",
     "output_type": "stream",
     "text": [
      "{'index': 0, 'username': 'test', 'password': 'test', 'display_name': 'test-user'}\n"
     ]
    },
    {
     "name": "stderr",
     "output_type": "stream",
     "text": [
      "180.183.224.101 - - [13/Mar/2024 08:09:47] \"GET /recipes/27208 HTTP/1.1\" 200 -\n",
      "180.183.224.101 - - [13/Mar/2024 08:10:21] \"OPTIONS /login HTTP/1.1\" 200 -\n",
      "180.183.224.101 - - [13/Mar/2024 08:10:21] \"POST /login HTTP/1.1\" 200 -\n",
      "180.183.224.101 - - [13/Mar/2024 08:10:21] \"OPTIONS /user-detail HTTP/1.1\" 200 -\n",
      "180.183.224.101 - - [13/Mar/2024 08:10:21] \"GET /recommended HTTP/1.1\" 200 -\n",
      "180.183.224.101 - - [13/Mar/2024 08:10:21] \"GET /user-detail HTTP/1.1\" 200 -\n"
     ]
    },
    {
     "name": "stdout",
     "output_type": "stream",
     "text": [
      "{'index': 0, 'username': 'test', 'password': 'test', 'display_name': 'test-user'}\n"
     ]
    },
    {
     "name": "stderr",
     "output_type": "stream",
     "text": [
      "180.183.224.101 - - [13/Mar/2024 08:10:22] \"GET /recommended HTTP/1.1\" 200 -\n",
      "180.183.224.101 - - [13/Mar/2024 08:10:23] \"GET /recipes/27208 HTTP/1.1\" 200 -\n",
      "180.183.224.101 - - [13/Mar/2024 08:10:24] \"GET /recommended HTTP/1.1\" 200 -\n",
      "180.183.224.101 - - [13/Mar/2024 08:10:25] \"GET /recipes/45809 HTTP/1.1\" 200 -\n",
      "180.183.224.101 - - [13/Mar/2024 08:10:33] \"GET /recipes/2886 HTTP/1.1\" 200 -\n",
      "180.183.224.101 - - [13/Mar/2024 08:10:50] \"OPTIONS /login HTTP/1.1\" 200 -\n",
      "180.183.224.101 - - [13/Mar/2024 08:10:50] \"POST /login HTTP/1.1\" 200 -\n",
      "180.183.224.101 - - [13/Mar/2024 08:10:50] \"OPTIONS /user-detail HTTP/1.1\" 200 -\n",
      "180.183.224.101 - - [13/Mar/2024 08:10:50] \"GET /recommended HTTP/1.1\" 200 -\n",
      "180.183.224.101 - - [13/Mar/2024 08:10:50] \"GET /user-detail HTTP/1.1\" 200 -\n"
     ]
    },
    {
     "name": "stdout",
     "output_type": "stream",
     "text": [
      "{'index': 0, 'username': 'test', 'password': 'test', 'display_name': 'test-user'}\n"
     ]
    },
    {
     "name": "stderr",
     "output_type": "stream",
     "text": [
      "180.183.224.101 - - [13/Mar/2024 08:10:50] \"GET /recipes/2886 HTTP/1.1\" 200 -\n",
      "180.183.224.101 - - [13/Mar/2024 08:10:53] \"GET /recipes/27208 HTTP/1.1\" 200 -\n",
      "180.183.224.101 - - [13/Mar/2024 08:10:54] \"GET /recipes/45809 HTTP/1.1\" 200 -\n",
      "180.183.224.101 - - [13/Mar/2024 08:11:03] \"GET /recipes/27208 HTTP/1.1\" 200 -\n",
      "180.183.224.101 - - [13/Mar/2024 08:11:25] \"GET /recipes/2886 HTTP/1.1\" 200 -\n",
      "180.183.224.101 - - [13/Mar/2024 08:12:15] \"OPTIONS /login HTTP/1.1\" 200 -\n",
      "180.183.224.101 - - [13/Mar/2024 08:12:15] \"POST /login HTTP/1.1\" 200 -\n",
      "180.183.224.101 - - [13/Mar/2024 08:12:15] \"OPTIONS /user-detail HTTP/1.1\" 200 -\n",
      "180.183.224.101 - - [13/Mar/2024 08:12:15] \"GET /recommended HTTP/1.1\" 200 -\n",
      "180.183.224.101 - - [13/Mar/2024 08:12:15] \"GET /user-detail HTTP/1.1\" 200 -\n"
     ]
    },
    {
     "name": "stdout",
     "output_type": "stream",
     "text": [
      "{'index': 0, 'username': 'test', 'password': 'test', 'display_name': 'test-user'}\n"
     ]
    },
    {
     "name": "stderr",
     "output_type": "stream",
     "text": [
      "180.183.224.101 - - [13/Mar/2024 08:12:16] \"GET /recipes/2886 HTTP/1.1\" 200 -\n",
      "180.183.224.101 - - [13/Mar/2024 08:12:17] \"GET /recipes/27208 HTTP/1.1\" 200 -\n",
      "180.183.224.101 - - [13/Mar/2024 08:12:18] \"GET /recommended HTTP/1.1\" 200 -\n",
      "180.183.224.101 - - [13/Mar/2024 08:12:23] \"GET /recipes/27208 HTTP/1.1\" 200 -\n",
      "180.183.224.101 - - [13/Mar/2024 08:12:24] \"GET /recipes/45809 HTTP/1.1\" 200 -\n",
      "180.183.224.101 - - [13/Mar/2024 08:12:29] \"GET /recipes/27208 HTTP/1.1\" 200 -\n",
      "180.183.224.101 - - [13/Mar/2024 08:13:29] \"GET /recipes/2886 HTTP/1.1\" 200 -\n",
      "180.183.224.101 - - [13/Mar/2024 08:13:30] \"GET /recipes/39087 HTTP/1.1\" 200 -\n",
      "180.183.224.101 - - [13/Mar/2024 08:14:22] \"GET /recipes/27208 HTTP/1.1\" 200 -\n"
     ]
    }
   ],
   "source": [
    "app.run(debug=False, host=\"0.0.0.0\")\n"
   ]
  }
 ],
 "metadata": {
  "kernelspec": {
   "display_name": "Python 3.10 (IR) (Local)",
   "language": "python",
   "name": "ir"
  },
  "language_info": {
   "codemirror_mode": {
    "name": "ipython",
    "version": 3
   },
   "file_extension": ".py",
   "mimetype": "text/x-python",
   "name": "python",
   "nbconvert_exporter": "python",
   "pygments_lexer": "ipython3",
   "version": "3.10.13"
  }
 },
 "nbformat": 4,
 "nbformat_minor": 2
}
